{
 "cells": [
  {
   "cell_type": "markdown",
   "id": "5550e522-5eb5-4e2f-9905-51001a33c653",
   "metadata": {},
   "source": [
    "### Purpose of the Dataset"
   ]
  },
  {
   "cell_type": "markdown",
   "id": "9018f56e-577a-4494-b7b8-4788d0924902",
   "metadata": {},
   "source": [
    "This data set is from the well-known UCI Machine Learning Repository. The objective of this notebook is to correctly forecast, based on the provided features, whether or not an adult earns more than $50,000 USD per year.\n"
   ]
  },
  {
   "cell_type": "markdown",
   "id": "a583c9b0-bc3d-4716-a694-d91418b52063",
   "metadata": {},
   "source": [
    "### About the Dataset"
   ]
  },
  {
   "cell_type": "markdown",
   "id": "946998b0-566b-44fe-a01f-3dd9194ab0f1",
   "metadata": {},
   "source": [
    "This data set is from the well-known UCI Machine Learning Repository. The objective of this notebook is to correctly forecast, based on the provided features, whether or not an adult earns more than $50,000 USD per year.\n",
    "\n",
    "The data set selected is “Adult Census Income” attached is the link for easy reference – https://archive.ics.uci.edu/ml/datasets/Adult"
   ]
  },
  {
   "cell_type": "markdown",
   "id": "2b1e28cd-8a26-4fc0-baff-468435f9ca89",
   "metadata": {},
   "source": [
    "Age: Describes the age of individuals. Continuous.\n",
    "\n",
    "Workclass: Private, Self-emp-not-inc, Self-emp-inc, Federal-gov, Local-gov, State-gov, Without-pay, Never-worked.\n",
    "\n",
    "fnlwgt: Continuous.\n",
    "\n",
    "education: Bachelors, Some-college, 11th, HS-grad, Prof-school, Assoc-acdm, Assoc-voc, 9th, 7th-8th, 12th, Masters, 1st-4th, 10th, Doctorate, 5th-6th, Preschool. education-num: Number of years spent in education. Continuous.\n",
    "\n",
    "marital-status: Married-civ-spouse, Divorced, Never-married, Separated, Widowed, Married-spouse-absent, Married-AF-spouse.\n",
    "\n",
    "occupation: Tech-support, Craft-repair, Other-service, Sales, Exec-managerial, Prof-specialty, Handlers-cleaners, Machine-op-inspct, Adm-clerical, Farming-fishing, Transport-moving, Priv-house-serv, Protective-serv, Armed-Forces. relationship: Wife, Own-child, Husband, Not-in-family, Other-relative, Unmarried.\n",
    "\n",
    "race: White, Asian-Pac-Islander, Amer-Indian-Eskimo, Other, Black.\n",
    "\n",
    "sex: Female, Male.\n",
    "\n",
    "capital-gain: Continuous.\n",
    "\n",
    "capital-loss: Continuous.\n",
    "\n",
    "hours-per-week: Continuous.\n",
    "\n",
    "native-country: United-States, Cambodia, England, Puerto-Rico, Canada, Germany, Outlying-US(Guam-USVI-etc), India, Japan, Greece, South, China, Cuba, Iran, Honduras, Philippines, Italy, Poland, Jamaica, Vietnam, Mexico, Portugal, Ireland, France, Dominican-Republic, Laos, Ecuador, Taiwan, Haiti, Columbia, Hungary, Guatemala, Nicaragua, Scotland, Thailand, Yugoslavia, El-Salvador, Trinadad&Tobago, Peru, Hong, Holand-Netherlands.\n",
    "\n",
    "salary: >50K,<=50K"
   ]
  },
  {
   "cell_type": "markdown",
   "id": "7393536b-981d-4e50-9783-1432d7e638ad",
   "metadata": {},
   "source": [
    "### Step1: Import all required libraries"
   ]
  },
  {
   "cell_type": "code",
   "execution_count": 1,
   "id": "75a05b54-8f75-460f-a071-14d5d5b6a33e",
   "metadata": {},
   "outputs": [],
   "source": [
    "import pandas as pd\n",
    "from sklearn import *\n",
    "from sklearn import preprocessing \n",
    "import numpy as np\n",
    "import matplotlib.pyplot as plt\n",
    "from sklearn.metrics import confusion_matrix\n",
    "from sklearn.utils import resample\n",
    "from sklearn.preprocessing import LabelEncoder\n",
    "from sklearn.tree import DecisionTreeClassifier\n",
    "from sklearn.metrics import confusion_matrix, accuracy_score, precision_score, recall_score, classification_report\n",
    "from sklearn.metrics import f1_score\n",
    "import seaborn as sns\n",
    "from sklearn.linear_model import LogisticRegression\n",
    "from sklearn.model_selection import train_test_split, cross_val_score, GridSearchCV\n",
    "from sklearn.tree import plot_tree\n",
    "from sklearn.svm import SVC\n",
    "from sklearn.model_selection import GridSearchCV, RandomizedSearchCV\n",
    "import warnings \n",
    "warnings.filterwarnings('ignore')\n",
    "\n",
    "np.random.seed(1)"
   ]
  },
  {
   "cell_type": "markdown",
   "id": "82726149-0c5e-48a0-9645-bbfc38eaa8c5",
   "metadata": {},
   "source": [
    "### Step2: Load the data, clean and prepare data for analysis"
   ]
  },
  {
   "cell_type": "code",
   "execution_count": 2,
   "id": "8e8ac8eb-e80c-4614-98ed-34db7e2478d7",
   "metadata": {},
   "outputs": [],
   "source": [
    "census_df = pd.read_csv(\"dataset.csv\") # change this path depending on where you store the file on your computer"
   ]
  },
  {
   "cell_type": "code",
   "execution_count": 3,
   "id": "55fe52c3-46e2-456a-92e8-cc3635fb2bcf",
   "metadata": {},
   "outputs": [
    {
     "data": {
      "text/html": [
       "<div>\n",
       "<style scoped>\n",
       "    .dataframe tbody tr th:only-of-type {\n",
       "        vertical-align: middle;\n",
       "    }\n",
       "\n",
       "    .dataframe tbody tr th {\n",
       "        vertical-align: top;\n",
       "    }\n",
       "\n",
       "    .dataframe thead th {\n",
       "        text-align: right;\n",
       "    }\n",
       "</style>\n",
       "<table border=\"1\" class=\"dataframe\">\n",
       "  <thead>\n",
       "    <tr style=\"text-align: right;\">\n",
       "      <th></th>\n",
       "      <th>Age</th>\n",
       "      <th>Workclass</th>\n",
       "      <th>fnlwgt</th>\n",
       "      <th>education</th>\n",
       "      <th>education-num</th>\n",
       "      <th>marital status</th>\n",
       "      <th>Occupation</th>\n",
       "      <th>relationship</th>\n",
       "      <th>race</th>\n",
       "      <th>sex</th>\n",
       "      <th>capital gain</th>\n",
       "      <th>capital loss</th>\n",
       "      <th>hours per week</th>\n",
       "      <th>native country</th>\n",
       "      <th>income</th>\n",
       "    </tr>\n",
       "  </thead>\n",
       "  <tbody>\n",
       "    <tr>\n",
       "      <th>0</th>\n",
       "      <td>39</td>\n",
       "      <td>State-gov</td>\n",
       "      <td>77516</td>\n",
       "      <td>Bachelors</td>\n",
       "      <td>13</td>\n",
       "      <td>Never-married</td>\n",
       "      <td>Adm-clerical</td>\n",
       "      <td>Not-in-family</td>\n",
       "      <td>White</td>\n",
       "      <td>Male</td>\n",
       "      <td>2174</td>\n",
       "      <td>0</td>\n",
       "      <td>40</td>\n",
       "      <td>United-States</td>\n",
       "      <td>&lt;=50K</td>\n",
       "    </tr>\n",
       "    <tr>\n",
       "      <th>1</th>\n",
       "      <td>50</td>\n",
       "      <td>Self-emp-not-inc</td>\n",
       "      <td>83311</td>\n",
       "      <td>Bachelors</td>\n",
       "      <td>13</td>\n",
       "      <td>Married-civ-spouse</td>\n",
       "      <td>Exec-managerial</td>\n",
       "      <td>Husband</td>\n",
       "      <td>White</td>\n",
       "      <td>Male</td>\n",
       "      <td>0</td>\n",
       "      <td>0</td>\n",
       "      <td>13</td>\n",
       "      <td>United-States</td>\n",
       "      <td>&lt;=50K</td>\n",
       "    </tr>\n",
       "    <tr>\n",
       "      <th>2</th>\n",
       "      <td>38</td>\n",
       "      <td>Private</td>\n",
       "      <td>215646</td>\n",
       "      <td>HS-grad</td>\n",
       "      <td>9</td>\n",
       "      <td>Divorced</td>\n",
       "      <td>Handlers-cleaners</td>\n",
       "      <td>Not-in-family</td>\n",
       "      <td>White</td>\n",
       "      <td>Male</td>\n",
       "      <td>0</td>\n",
       "      <td>0</td>\n",
       "      <td>40</td>\n",
       "      <td>United-States</td>\n",
       "      <td>&lt;=50K</td>\n",
       "    </tr>\n",
       "    <tr>\n",
       "      <th>3</th>\n",
       "      <td>53</td>\n",
       "      <td>Private</td>\n",
       "      <td>234721</td>\n",
       "      <td>11th</td>\n",
       "      <td>7</td>\n",
       "      <td>Married-civ-spouse</td>\n",
       "      <td>Handlers-cleaners</td>\n",
       "      <td>Husband</td>\n",
       "      <td>Black</td>\n",
       "      <td>Male</td>\n",
       "      <td>0</td>\n",
       "      <td>0</td>\n",
       "      <td>40</td>\n",
       "      <td>United-States</td>\n",
       "      <td>&lt;=50K</td>\n",
       "    </tr>\n",
       "    <tr>\n",
       "      <th>4</th>\n",
       "      <td>28</td>\n",
       "      <td>Private</td>\n",
       "      <td>338409</td>\n",
       "      <td>Bachelors</td>\n",
       "      <td>13</td>\n",
       "      <td>Married-civ-spouse</td>\n",
       "      <td>Prof-specialty</td>\n",
       "      <td>Wife</td>\n",
       "      <td>Black</td>\n",
       "      <td>Female</td>\n",
       "      <td>0</td>\n",
       "      <td>0</td>\n",
       "      <td>40</td>\n",
       "      <td>Cuba</td>\n",
       "      <td>&lt;=50K</td>\n",
       "    </tr>\n",
       "  </tbody>\n",
       "</table>\n",
       "</div>"
      ],
      "text/plain": [
       "   Age          Workclass  fnlwgt   education  education-num  \\\n",
       "0   39          State-gov   77516   Bachelors             13   \n",
       "1   50   Self-emp-not-inc   83311   Bachelors             13   \n",
       "2   38            Private  215646     HS-grad              9   \n",
       "3   53            Private  234721        11th              7   \n",
       "4   28            Private  338409   Bachelors             13   \n",
       "\n",
       "        marital status          Occupation    relationship    race      sex  \\\n",
       "0        Never-married        Adm-clerical   Not-in-family   White     Male   \n",
       "1   Married-civ-spouse     Exec-managerial         Husband   White     Male   \n",
       "2             Divorced   Handlers-cleaners   Not-in-family   White     Male   \n",
       "3   Married-civ-spouse   Handlers-cleaners         Husband   Black     Male   \n",
       "4   Married-civ-spouse      Prof-specialty            Wife   Black   Female   \n",
       "\n",
       "   capital gain  capital loss  hours per week  native country  income  \n",
       "0          2174             0              40   United-States   <=50K  \n",
       "1             0             0              13   United-States   <=50K  \n",
       "2             0             0              40   United-States   <=50K  \n",
       "3             0             0              40   United-States   <=50K  \n",
       "4             0             0              40            Cuba   <=50K  "
      ]
     },
     "execution_count": 3,
     "metadata": {},
     "output_type": "execute_result"
    }
   ],
   "source": [
    "census_df.head(5)"
   ]
  },
  {
   "cell_type": "code",
   "execution_count": 4,
   "id": "4705aec5-aeb3-4974-9818-15d7bec493fc",
   "metadata": {},
   "outputs": [
    {
     "data": {
      "text/plain": [
       "(32561, 15)"
      ]
     },
     "execution_count": 4,
     "metadata": {},
     "output_type": "execute_result"
    }
   ],
   "source": [
    "census_df.shape"
   ]
  },
  {
   "cell_type": "markdown",
   "id": "d13b2372-15bf-467b-911f-5dd7c27dfc57",
   "metadata": {},
   "source": [
    "Checking the number of rows and columns in the data set selected"
   ]
  },
  {
   "cell_type": "code",
   "execution_count": 5,
   "id": "db26d2a8-65e9-4e3f-b103-546d09e5c7bd",
   "metadata": {},
   "outputs": [
    {
     "data": {
      "text/html": [
       "<div>\n",
       "<style scoped>\n",
       "    .dataframe tbody tr th:only-of-type {\n",
       "        vertical-align: middle;\n",
       "    }\n",
       "\n",
       "    .dataframe tbody tr th {\n",
       "        vertical-align: top;\n",
       "    }\n",
       "\n",
       "    .dataframe thead th {\n",
       "        text-align: right;\n",
       "    }\n",
       "</style>\n",
       "<table border=\"1\" class=\"dataframe\">\n",
       "  <thead>\n",
       "    <tr style=\"text-align: right;\">\n",
       "      <th></th>\n",
       "      <th>Age</th>\n",
       "      <th>fnlwgt</th>\n",
       "      <th>education-num</th>\n",
       "      <th>capital gain</th>\n",
       "      <th>capital loss</th>\n",
       "      <th>hours per week</th>\n",
       "    </tr>\n",
       "  </thead>\n",
       "  <tbody>\n",
       "    <tr>\n",
       "      <th>count</th>\n",
       "      <td>32561.000000</td>\n",
       "      <td>3.256100e+04</td>\n",
       "      <td>32561.000000</td>\n",
       "      <td>32561.000000</td>\n",
       "      <td>32561.000000</td>\n",
       "      <td>32561.000000</td>\n",
       "    </tr>\n",
       "    <tr>\n",
       "      <th>mean</th>\n",
       "      <td>38.581647</td>\n",
       "      <td>1.897784e+05</td>\n",
       "      <td>10.080679</td>\n",
       "      <td>1077.648844</td>\n",
       "      <td>87.303830</td>\n",
       "      <td>40.437456</td>\n",
       "    </tr>\n",
       "    <tr>\n",
       "      <th>std</th>\n",
       "      <td>13.640433</td>\n",
       "      <td>1.055500e+05</td>\n",
       "      <td>2.572720</td>\n",
       "      <td>7385.292085</td>\n",
       "      <td>402.960219</td>\n",
       "      <td>12.347429</td>\n",
       "    </tr>\n",
       "    <tr>\n",
       "      <th>min</th>\n",
       "      <td>17.000000</td>\n",
       "      <td>1.228500e+04</td>\n",
       "      <td>1.000000</td>\n",
       "      <td>0.000000</td>\n",
       "      <td>0.000000</td>\n",
       "      <td>1.000000</td>\n",
       "    </tr>\n",
       "    <tr>\n",
       "      <th>25%</th>\n",
       "      <td>28.000000</td>\n",
       "      <td>1.178270e+05</td>\n",
       "      <td>9.000000</td>\n",
       "      <td>0.000000</td>\n",
       "      <td>0.000000</td>\n",
       "      <td>40.000000</td>\n",
       "    </tr>\n",
       "    <tr>\n",
       "      <th>50%</th>\n",
       "      <td>37.000000</td>\n",
       "      <td>1.783560e+05</td>\n",
       "      <td>10.000000</td>\n",
       "      <td>0.000000</td>\n",
       "      <td>0.000000</td>\n",
       "      <td>40.000000</td>\n",
       "    </tr>\n",
       "    <tr>\n",
       "      <th>75%</th>\n",
       "      <td>48.000000</td>\n",
       "      <td>2.370510e+05</td>\n",
       "      <td>12.000000</td>\n",
       "      <td>0.000000</td>\n",
       "      <td>0.000000</td>\n",
       "      <td>45.000000</td>\n",
       "    </tr>\n",
       "    <tr>\n",
       "      <th>max</th>\n",
       "      <td>90.000000</td>\n",
       "      <td>1.484705e+06</td>\n",
       "      <td>16.000000</td>\n",
       "      <td>99999.000000</td>\n",
       "      <td>4356.000000</td>\n",
       "      <td>99.000000</td>\n",
       "    </tr>\n",
       "  </tbody>\n",
       "</table>\n",
       "</div>"
      ],
      "text/plain": [
       "                Age        fnlwgt  education-num  capital gain  capital loss  \\\n",
       "count  32561.000000  3.256100e+04   32561.000000  32561.000000  32561.000000   \n",
       "mean      38.581647  1.897784e+05      10.080679   1077.648844     87.303830   \n",
       "std       13.640433  1.055500e+05       2.572720   7385.292085    402.960219   \n",
       "min       17.000000  1.228500e+04       1.000000      0.000000      0.000000   \n",
       "25%       28.000000  1.178270e+05       9.000000      0.000000      0.000000   \n",
       "50%       37.000000  1.783560e+05      10.000000      0.000000      0.000000   \n",
       "75%       48.000000  2.370510e+05      12.000000      0.000000      0.000000   \n",
       "max       90.000000  1.484705e+06      16.000000  99999.000000   4356.000000   \n",
       "\n",
       "       hours per week  \n",
       "count    32561.000000  \n",
       "mean        40.437456  \n",
       "std         12.347429  \n",
       "min          1.000000  \n",
       "25%         40.000000  \n",
       "50%         40.000000  \n",
       "75%         45.000000  \n",
       "max         99.000000  "
      ]
     },
     "execution_count": 5,
     "metadata": {},
     "output_type": "execute_result"
    }
   ],
   "source": [
    "census_df.describe()"
   ]
  },
  {
   "cell_type": "markdown",
   "id": "cec36a28-44ef-4e9a-bf42-3f15cc156912",
   "metadata": {},
   "source": [
    "Check column names, and for our convenience, let's remove whitespaces and '.' if any..."
   ]
  },
  {
   "cell_type": "code",
   "execution_count": 6,
   "id": "bf5fd491-ea76-4155-9dd2-7ee974de9dee",
   "metadata": {},
   "outputs": [
    {
     "data": {
      "text/plain": [
       "Index(['Age', 'Workclass', 'fnlwgt', 'education', 'education-num',\n",
       "       'marital status', 'Occupation', 'relationship', 'race', 'sex',\n",
       "       'capital gain', 'capital loss', 'hours per week', 'native country',\n",
       "       'income'],\n",
       "      dtype='object')"
      ]
     },
     "execution_count": 6,
     "metadata": {},
     "output_type": "execute_result"
    }
   ],
   "source": [
    "census_df.columns"
   ]
  },
  {
   "cell_type": "markdown",
   "id": "fc66cb6c-cfe4-4adf-8443-d499491f235c",
   "metadata": {},
   "source": [
    "### Step3: Clean up Column names - Removing whitespaces and '.' and replacing it with '_' and converting them to uppercase headers in all columns"
   ]
  },
  {
   "cell_type": "code",
   "execution_count": 7,
   "id": "acc38a7b-bef4-4cf7-bb50-2ad0699ff13d",
   "metadata": {},
   "outputs": [],
   "source": [
    "census_df.columns = [s.strip().upper().replace('.', '_') for s in census_df.columns] \n",
    "census_df.columns = [s.strip().upper().replace(' ', '_') for s in census_df.columns] "
   ]
  },
  {
   "cell_type": "code",
   "execution_count": 8,
   "id": "1a6d2ae7-fff0-4213-8774-2f75db953e2a",
   "metadata": {},
   "outputs": [
    {
     "data": {
      "text/plain": [
       "Index(['AGE', 'WORKCLASS', 'FNLWGT', 'EDUCATION', 'EDUCATION-NUM',\n",
       "       'MARITAL_STATUS', 'OCCUPATION', 'RELATIONSHIP', 'RACE', 'SEX',\n",
       "       'CAPITAL_GAIN', 'CAPITAL_LOSS', 'HOURS_PER_WEEK', 'NATIVE_COUNTRY',\n",
       "       'INCOME'],\n",
       "      dtype='object')"
      ]
     },
     "execution_count": 8,
     "metadata": {},
     "output_type": "execute_result"
    }
   ],
   "source": [
    "census_df.columns"
   ]
  },
  {
   "cell_type": "markdown",
   "id": "1a8b9819-a80c-4c29-96c1-d0549e10b3dd",
   "metadata": {},
   "source": [
    "#### Exploring the datatypes of all the variables"
   ]
  },
  {
   "cell_type": "code",
   "execution_count": 9,
   "id": "f70c1db1-0493-4e72-bdee-368cbcb095b0",
   "metadata": {},
   "outputs": [
    {
     "data": {
      "text/plain": [
       "AGE                int64\n",
       "WORKCLASS         object\n",
       "FNLWGT             int64\n",
       "EDUCATION         object\n",
       "EDUCATION-NUM      int64\n",
       "MARITAL_STATUS    object\n",
       "OCCUPATION        object\n",
       "RELATIONSHIP      object\n",
       "RACE              object\n",
       "SEX               object\n",
       "CAPITAL_GAIN       int64\n",
       "CAPITAL_LOSS       int64\n",
       "HOURS_PER_WEEK     int64\n",
       "NATIVE_COUNTRY    object\n",
       "INCOME            object\n",
       "dtype: object"
      ]
     },
     "execution_count": 9,
     "metadata": {},
     "output_type": "execute_result"
    }
   ],
   "source": [
    "census_df.dtypes"
   ]
  },
  {
   "cell_type": "markdown",
   "id": "afa9cf6b-a838-42b9-b025-1e359854c347",
   "metadata": {},
   "source": [
    "#### We are now replacing all the 'object' datatypes to 'category' datatypes by converting them to categorical datatypes"
   ]
  },
  {
   "cell_type": "code",
   "execution_count": 10,
   "id": "59dcdb86-1d39-48c8-8f80-beaacdc829b3",
   "metadata": {},
   "outputs": [],
   "source": [
    "census_df.WORKCLASS = census_df.WORKCLASS.astype('category')\n",
    "census_df.EDUCATION = census_df.EDUCATION.astype('category')\n",
    "census_df.MARITAL_STATUS = census_df.MARITAL_STATUS.astype('category')\n",
    "census_df.OCCUPATION = census_df.OCCUPATION.astype('category')\n",
    "census_df.RELATIONSHIP = census_df.RELATIONSHIP.astype('category')\n",
    "census_df.RACE = census_df.RACE.astype('category')\n",
    "census_df.SEX = census_df.SEX.astype('category')\n",
    "census_df.NATIVE_COUNTRY = census_df.NATIVE_COUNTRY.astype('category')\n",
    "census_df.INCOME = census_df.INCOME.astype('category')"
   ]
  },
  {
   "cell_type": "markdown",
   "id": "5a658f81-b3b4-4a24-8dee-16c4ca698820",
   "metadata": {},
   "source": [
    "#### Now we have converted all our 'object' datatypes to 'categorical' datatypes"
   ]
  },
  {
   "cell_type": "code",
   "execution_count": 11,
   "id": "4db801e7-fd02-4fac-958d-d0b88b2070fe",
   "metadata": {},
   "outputs": [
    {
     "data": {
      "text/plain": [
       "AGE                  int64\n",
       "WORKCLASS         category\n",
       "FNLWGT               int64\n",
       "EDUCATION         category\n",
       "EDUCATION-NUM        int64\n",
       "MARITAL_STATUS    category\n",
       "OCCUPATION        category\n",
       "RELATIONSHIP      category\n",
       "RACE              category\n",
       "SEX               category\n",
       "CAPITAL_GAIN         int64\n",
       "CAPITAL_LOSS         int64\n",
       "HOURS_PER_WEEK       int64\n",
       "NATIVE_COUNTRY    category\n",
       "INCOME            category\n",
       "dtype: object"
      ]
     },
     "execution_count": 11,
     "metadata": {},
     "output_type": "execute_result"
    }
   ],
   "source": [
    "census_df.dtypes"
   ]
  },
  {
   "cell_type": "markdown",
   "id": "802984d4-8885-424c-a291-788947e40702",
   "metadata": {},
   "source": [
    "### check for missing values"
   ]
  },
  {
   "cell_type": "code",
   "execution_count": 12,
   "id": "4edd3fcd-4f0f-40b2-8a8b-739050b01469",
   "metadata": {},
   "outputs": [
    {
     "data": {
      "text/plain": [
       "AGE               0\n",
       "WORKCLASS         0\n",
       "FNLWGT            0\n",
       "EDUCATION         0\n",
       "EDUCATION-NUM     0\n",
       "MARITAL_STATUS    0\n",
       "OCCUPATION        0\n",
       "RELATIONSHIP      0\n",
       "RACE              0\n",
       "SEX               0\n",
       "CAPITAL_GAIN      0\n",
       "CAPITAL_LOSS      0\n",
       "HOURS_PER_WEEK    0\n",
       "NATIVE_COUNTRY    0\n",
       "INCOME            0\n",
       "dtype: int64"
      ]
     },
     "execution_count": 12,
     "metadata": {},
     "output_type": "execute_result"
    }
   ],
   "source": [
    "census_df.isnull().sum()"
   ]
  },
  {
   "cell_type": "markdown",
   "id": "290e4f9b-5828-4ec6-86ae-970e356909be",
   "metadata": {},
   "source": [
    "#### Exploring All unique values of all the categorical variables using **unique()** "
   ]
  },
  {
   "cell_type": "code",
   "execution_count": 13,
   "id": "054cc3c9-dff0-4208-b0c2-5973b9a3a678",
   "metadata": {},
   "outputs": [
    {
     "name": "stdout",
     "output_type": "stream",
     "text": [
      "[' State-gov', ' Self-emp-not-inc', ' Private', ' Federal-gov', ' Local-gov', ' ?', ' Self-emp-inc', ' Without-pay', ' Never-worked']\n",
      "Categories (9, object): [' ?', ' Federal-gov', ' Local-gov', ' Never-worked', ..., ' Self-emp-inc', ' Self-emp-not-inc', ' State-gov', ' Without-pay']\n",
      "---------------------------------------------------------------------------------------------------------------------------\n",
      "[' Bachelors', ' HS-grad', ' 11th', ' Masters', ' 9th', ..., ' 5th-6th', ' 10th', ' 1st-4th', ' Preschool', ' 12th']\n",
      "Length: 16\n",
      "Categories (16, object): [' 10th', ' 11th', ' 12th', ' 1st-4th', ..., ' Masters', ' Preschool', ' Prof-school', ' Some-college']\n",
      "---------------------------------------------------------------------------------------------------------------------------\n",
      "[' Never-married', ' Married-civ-spouse', ' Divorced', ' Married-spouse-absent', ' Separated', ' Married-AF-spouse', ' Widowed']\n",
      "Categories (7, object): [' Divorced', ' Married-AF-spouse', ' Married-civ-spouse', ' Married-spouse-absent', ' Never-married', ' Separated', ' Widowed']\n",
      "---------------------------------------------------------------------------------------------------------------------------\n",
      "[' Adm-clerical', ' Exec-managerial', ' Handlers-cleaners', ' Prof-specialty', ' Other-service', ..., ' Tech-support', ' ?', ' Protective-serv', ' Armed-Forces', ' Priv-house-serv']\n",
      "Length: 15\n",
      "Categories (15, object): [' ?', ' Adm-clerical', ' Armed-Forces', ' Craft-repair', ..., ' Protective-serv', ' Sales', ' Tech-support', ' Transport-moving']\n",
      "---------------------------------------------------------------------------------------------------------------------------\n",
      "[' Not-in-family', ' Husband', ' Wife', ' Own-child', ' Unmarried', ' Other-relative']\n",
      "Categories (6, object): [' Husband', ' Not-in-family', ' Other-relative', ' Own-child', ' Unmarried', ' Wife']\n",
      "---------------------------------------------------------------------------------------------------------------------------\n",
      "[' White', ' Black', ' Asian-Pac-Islander', ' Amer-Indian-Eskimo', ' Other']\n",
      "Categories (5, object): [' Amer-Indian-Eskimo', ' Asian-Pac-Islander', ' Black', ' Other', ' White']\n",
      "---------------------------------------------------------------------------------------------------------------------------\n",
      "[' Male', ' Female']\n",
      "Categories (2, object): [' Female', ' Male']\n",
      "---------------------------------------------------------------------------------------------------------------------------\n",
      "[' United-States', ' Cuba', ' Jamaica', ' India', ' ?', ..., ' Vietnam', ' Hong', ' Ireland', ' Hungary', ' Holand-Netherlands']\n",
      "Length: 42\n",
      "Categories (42, object): [' ?', ' Cambodia', ' Canada', ' China', ..., ' Trinadad&Tobago', ' United-States', ' Vietnam', ' Yugoslavia']\n",
      "---------------------------------------------------------------------------------------------------------------------------\n",
      "[' <=50K', ' >50K']\n",
      "Categories (2, object): [' <=50K', ' >50K']\n"
     ]
    }
   ],
   "source": [
    "print(census_df['WORKCLASS'].unique())\n",
    "print('---------------------------------------------------------------------------------------------------------------------------')\n",
    "print(census_df['EDUCATION'].unique())\n",
    "print('---------------------------------------------------------------------------------------------------------------------------')\n",
    "print(census_df['MARITAL_STATUS'].unique())\n",
    "print('---------------------------------------------------------------------------------------------------------------------------')\n",
    "print(census_df['OCCUPATION'].unique())\n",
    "print('---------------------------------------------------------------------------------------------------------------------------')\n",
    "print(census_df['RELATIONSHIP'].unique())\n",
    "print('---------------------------------------------------------------------------------------------------------------------------')\n",
    "print(census_df['RACE'].unique())\n",
    "print('---------------------------------------------------------------------------------------------------------------------------')\n",
    "print(census_df['SEX'].unique())\n",
    "print('---------------------------------------------------------------------------------------------------------------------------')\n",
    "print(census_df['NATIVE_COUNTRY'].unique())\n",
    "print('---------------------------------------------------------------------------------------------------------------------------')\n",
    "print(census_df['INCOME'].unique())"
   ]
  },
  {
   "cell_type": "markdown",
   "id": "d4ce05b9-6cfb-491d-b8db-68913a8a0567",
   "metadata": {},
   "source": [
    "#### We can clearly observe that some of the categorical variables (like 'WORKCLASS','NATIVE COUNTRY' and 'OCCUPATION' have '?' as unique value, which is replaced by value 'NaN' "
   ]
  },
  {
   "cell_type": "code",
   "execution_count": 14,
   "id": "4a3b3f0d-c648-4018-8c5b-d59bfd3f93be",
   "metadata": {},
   "outputs": [],
   "source": [
    "census_df=census_df.replace({' ?': np.nan})\n",
    "census_df=census_df.replace({' ': np.nan})"
   ]
  },
  {
   "cell_type": "markdown",
   "id": "00143dc1-5340-4aa1-afc9-e2f48a83c909",
   "metadata": {},
   "source": [
    "#### Checking whether all the '?' values are replaced with NaN values"
   ]
  },
  {
   "cell_type": "code",
   "execution_count": 15,
   "id": "065aac3f-7a39-4e7d-b4bb-35c61ca9324f",
   "metadata": {},
   "outputs": [
    {
     "name": "stdout",
     "output_type": "stream",
     "text": [
      "[' State-gov', ' Self-emp-not-inc', ' Private', ' Federal-gov', ' Local-gov', NaN, ' Self-emp-inc', ' Without-pay', ' Never-worked']\n",
      "Categories (8, object): [' Federal-gov', ' Local-gov', ' Never-worked', ' Private', ' Self-emp-inc', ' Self-emp-not-inc', ' State-gov', ' Without-pay']\n",
      "--------------------------------------------------------------------------\n",
      "[' Adm-clerical', ' Exec-managerial', ' Handlers-cleaners', ' Prof-specialty', ' Other-service', ..., ' Tech-support', NaN, ' Protective-serv', ' Armed-Forces', ' Priv-house-serv']\n",
      "Length: 15\n",
      "Categories (14, object): [' Adm-clerical', ' Armed-Forces', ' Craft-repair', ' Exec-managerial', ..., ' Protective-serv', ' Sales', ' Tech-support', ' Transport-moving']\n",
      "--------------------------------------------------------------------------\n",
      "[' United-States', ' Cuba', ' Jamaica', ' India', NaN, ..., ' Vietnam', ' Hong', ' Ireland', ' Hungary', ' Holand-Netherlands']\n",
      "Length: 42\n",
      "Categories (41, object): [' Cambodia', ' Canada', ' China', ' Columbia', ..., ' Trinadad&Tobago', ' United-States', ' Vietnam', ' Yugoslavia']\n"
     ]
    }
   ],
   "source": [
    "print(census_df['WORKCLASS'].unique())\n",
    "print('--------------------------------------------------------------------------')\n",
    "print(census_df['OCCUPATION'].unique())\n",
    "print('--------------------------------------------------------------------------')\n",
    "print(census_df['NATIVE_COUNTRY'].unique())"
   ]
  },
  {
   "cell_type": "code",
   "execution_count": 16,
   "id": "308ff048-d6f5-4cd4-9d80-e4c537643593",
   "metadata": {},
   "outputs": [
    {
     "data": {
      "text/plain": [
       "AGE                  0\n",
       "WORKCLASS         1836\n",
       "FNLWGT               0\n",
       "EDUCATION            0\n",
       "EDUCATION-NUM        0\n",
       "MARITAL_STATUS       0\n",
       "OCCUPATION        1843\n",
       "RELATIONSHIP         0\n",
       "RACE                 0\n",
       "SEX                  0\n",
       "CAPITAL_GAIN         0\n",
       "CAPITAL_LOSS         0\n",
       "HOURS_PER_WEEK       0\n",
       "NATIVE_COUNTRY     583\n",
       "INCOME               0\n",
       "dtype: int64"
      ]
     },
     "execution_count": 16,
     "metadata": {},
     "output_type": "execute_result"
    }
   ],
   "source": [
    "census_df.isnull().sum()"
   ]
  },
  {
   "cell_type": "markdown",
   "id": "9d22439d-06eb-4f77-89a7-7875581eda4f",
   "metadata": {},
   "source": [
    "#### Filling NaN values in 'WORKCLASS' variable with Most repeated element (MODE)"
   ]
  },
  {
   "cell_type": "code",
   "execution_count": 17,
   "id": "bac3419a-77ef-49c9-a044-40f2c0153910",
   "metadata": {},
   "outputs": [
    {
     "data": {
      "text/plain": [
       "count        30725\n",
       "unique           8\n",
       "top        Private\n",
       "freq         22696\n",
       "Name: WORKCLASS, dtype: object"
      ]
     },
     "execution_count": 17,
     "metadata": {},
     "output_type": "execute_result"
    }
   ],
   "source": [
    "census_df['WORKCLASS'].describe()"
   ]
  },
  {
   "cell_type": "code",
   "execution_count": 18,
   "id": "febb808d-953d-485e-9ba0-ecabff6d2cce",
   "metadata": {},
   "outputs": [],
   "source": [
    "census_df['WORKCLASS'] = census_df['WORKCLASS'].fillna(' Private')"
   ]
  },
  {
   "cell_type": "markdown",
   "id": "29bc0376-96b7-4456-86ce-ceef8b7131fe",
   "metadata": {
    "jupyter": {
     "source_hidden": true
    },
    "tags": []
   },
   "source": [
    "#### Filling NaN values in 'OCCUPATION' variable with Most repeated element (MODE)"
   ]
  },
  {
   "cell_type": "code",
   "execution_count": 19,
   "id": "5ebdeea4-f331-4817-9506-574cb971b5f5",
   "metadata": {},
   "outputs": [
    {
     "data": {
      "text/plain": [
       "count               30718\n",
       "unique                 14\n",
       "top        Prof-specialty\n",
       "freq                 4140\n",
       "Name: OCCUPATION, dtype: object"
      ]
     },
     "execution_count": 19,
     "metadata": {},
     "output_type": "execute_result"
    }
   ],
   "source": [
    "census_df['OCCUPATION'].describe()"
   ]
  },
  {
   "cell_type": "code",
   "execution_count": 20,
   "id": "a3b0bebb-8f8f-46f5-8167-ee4c3049a7bd",
   "metadata": {},
   "outputs": [],
   "source": [
    "census_df['OCCUPATION'] = census_df['OCCUPATION'].fillna(' Prof-specialty')"
   ]
  },
  {
   "cell_type": "markdown",
   "id": "4278e6d4-06c6-48bb-ad2d-4b410810029c",
   "metadata": {},
   "source": [
    "#### Filling NaN values in 'NATIVE_COUNTRY' variable with Most repeated element (MODE)"
   ]
  },
  {
   "cell_type": "code",
   "execution_count": 21,
   "id": "fb9eb877-ead2-41b6-a1c8-c9963fcf1a30",
   "metadata": {},
   "outputs": [
    {
     "data": {
      "text/plain": [
       "count              31978\n",
       "unique                41\n",
       "top        United-States\n",
       "freq               29170\n",
       "Name: NATIVE_COUNTRY, dtype: object"
      ]
     },
     "execution_count": 21,
     "metadata": {},
     "output_type": "execute_result"
    }
   ],
   "source": [
    "census_df.NATIVE_COUNTRY.describe()"
   ]
  },
  {
   "cell_type": "code",
   "execution_count": 22,
   "id": "705725ef-d969-4897-835a-36b298710fec",
   "metadata": {},
   "outputs": [],
   "source": [
    "census_df['NATIVE_COUNTRY'] = census_df['NATIVE_COUNTRY'].fillna(' United-States')"
   ]
  },
  {
   "cell_type": "code",
   "execution_count": 23,
   "id": "3f6eede1-206f-464d-b959-fe1ccbb4668b",
   "metadata": {},
   "outputs": [
    {
     "data": {
      "text/plain": [
       "AGE               0\n",
       "WORKCLASS         0\n",
       "FNLWGT            0\n",
       "EDUCATION         0\n",
       "EDUCATION-NUM     0\n",
       "MARITAL_STATUS    0\n",
       "OCCUPATION        0\n",
       "RELATIONSHIP      0\n",
       "RACE              0\n",
       "SEX               0\n",
       "CAPITAL_GAIN      0\n",
       "CAPITAL_LOSS      0\n",
       "HOURS_PER_WEEK    0\n",
       "NATIVE_COUNTRY    0\n",
       "INCOME            0\n",
       "dtype: int64"
      ]
     },
     "execution_count": 23,
     "metadata": {},
     "output_type": "execute_result"
    }
   ],
   "source": [
    "census_df.isnull().sum()"
   ]
  },
  {
   "cell_type": "markdown",
   "id": "122e9887-62b3-4789-bf3b-b403032bdf29",
   "metadata": {},
   "source": [
    "## Label Encoding"
   ]
  },
  {
   "cell_type": "code",
   "execution_count": 24,
   "id": "2a9fe56d-35ba-4416-9e21-b59651d4d638",
   "metadata": {},
   "outputs": [],
   "source": [
    "from sklearn.preprocessing import LabelEncoder"
   ]
  },
  {
   "cell_type": "markdown",
   "id": "c3a5edd9-0cf7-42b0-8605-2984783835d5",
   "metadata": {},
   "source": [
    "### Applying Label encoding to multiple columns "
   ]
  },
  {
   "cell_type": "code",
   "execution_count": 25,
   "id": "c3dea177-3437-43cc-93e8-2a3782544fba",
   "metadata": {},
   "outputs": [],
   "source": [
    "categ = ['WORKCLASS','EDUCATION','MARITAL_STATUS', 'OCCUPATION', 'RELATIONSHIP', 'RACE', 'SEX','NATIVE_COUNTRY','INCOME']\n",
    "\n",
    "# Encode Categorical Columns\n",
    "enc = LabelEncoder()\n",
    "census_df[categ] = census_df[categ].apply(enc.fit_transform)"
   ]
  },
  {
   "cell_type": "code",
   "execution_count": 26,
   "id": "17a723a7-01f2-49d0-a4a3-5783651b2bb2",
   "metadata": {},
   "outputs": [
    {
     "data": {
      "text/html": [
       "<div>\n",
       "<style scoped>\n",
       "    .dataframe tbody tr th:only-of-type {\n",
       "        vertical-align: middle;\n",
       "    }\n",
       "\n",
       "    .dataframe tbody tr th {\n",
       "        vertical-align: top;\n",
       "    }\n",
       "\n",
       "    .dataframe thead th {\n",
       "        text-align: right;\n",
       "    }\n",
       "</style>\n",
       "<table border=\"1\" class=\"dataframe\">\n",
       "  <thead>\n",
       "    <tr style=\"text-align: right;\">\n",
       "      <th></th>\n",
       "      <th>AGE</th>\n",
       "      <th>WORKCLASS</th>\n",
       "      <th>FNLWGT</th>\n",
       "      <th>EDUCATION</th>\n",
       "      <th>EDUCATION-NUM</th>\n",
       "      <th>MARITAL_STATUS</th>\n",
       "      <th>OCCUPATION</th>\n",
       "      <th>RELATIONSHIP</th>\n",
       "      <th>RACE</th>\n",
       "      <th>SEX</th>\n",
       "      <th>CAPITAL_GAIN</th>\n",
       "      <th>CAPITAL_LOSS</th>\n",
       "      <th>HOURS_PER_WEEK</th>\n",
       "      <th>NATIVE_COUNTRY</th>\n",
       "      <th>INCOME</th>\n",
       "    </tr>\n",
       "  </thead>\n",
       "  <tbody>\n",
       "    <tr>\n",
       "      <th>0</th>\n",
       "      <td>39</td>\n",
       "      <td>6</td>\n",
       "      <td>77516</td>\n",
       "      <td>9</td>\n",
       "      <td>13</td>\n",
       "      <td>4</td>\n",
       "      <td>0</td>\n",
       "      <td>1</td>\n",
       "      <td>4</td>\n",
       "      <td>1</td>\n",
       "      <td>2174</td>\n",
       "      <td>0</td>\n",
       "      <td>40</td>\n",
       "      <td>38</td>\n",
       "      <td>0</td>\n",
       "    </tr>\n",
       "    <tr>\n",
       "      <th>1</th>\n",
       "      <td>50</td>\n",
       "      <td>5</td>\n",
       "      <td>83311</td>\n",
       "      <td>9</td>\n",
       "      <td>13</td>\n",
       "      <td>2</td>\n",
       "      <td>3</td>\n",
       "      <td>0</td>\n",
       "      <td>4</td>\n",
       "      <td>1</td>\n",
       "      <td>0</td>\n",
       "      <td>0</td>\n",
       "      <td>13</td>\n",
       "      <td>38</td>\n",
       "      <td>0</td>\n",
       "    </tr>\n",
       "    <tr>\n",
       "      <th>2</th>\n",
       "      <td>38</td>\n",
       "      <td>3</td>\n",
       "      <td>215646</td>\n",
       "      <td>11</td>\n",
       "      <td>9</td>\n",
       "      <td>0</td>\n",
       "      <td>5</td>\n",
       "      <td>1</td>\n",
       "      <td>4</td>\n",
       "      <td>1</td>\n",
       "      <td>0</td>\n",
       "      <td>0</td>\n",
       "      <td>40</td>\n",
       "      <td>38</td>\n",
       "      <td>0</td>\n",
       "    </tr>\n",
       "    <tr>\n",
       "      <th>3</th>\n",
       "      <td>53</td>\n",
       "      <td>3</td>\n",
       "      <td>234721</td>\n",
       "      <td>1</td>\n",
       "      <td>7</td>\n",
       "      <td>2</td>\n",
       "      <td>5</td>\n",
       "      <td>0</td>\n",
       "      <td>2</td>\n",
       "      <td>1</td>\n",
       "      <td>0</td>\n",
       "      <td>0</td>\n",
       "      <td>40</td>\n",
       "      <td>38</td>\n",
       "      <td>0</td>\n",
       "    </tr>\n",
       "    <tr>\n",
       "      <th>4</th>\n",
       "      <td>28</td>\n",
       "      <td>3</td>\n",
       "      <td>338409</td>\n",
       "      <td>9</td>\n",
       "      <td>13</td>\n",
       "      <td>2</td>\n",
       "      <td>9</td>\n",
       "      <td>5</td>\n",
       "      <td>2</td>\n",
       "      <td>0</td>\n",
       "      <td>0</td>\n",
       "      <td>0</td>\n",
       "      <td>40</td>\n",
       "      <td>4</td>\n",
       "      <td>0</td>\n",
       "    </tr>\n",
       "    <tr>\n",
       "      <th>5</th>\n",
       "      <td>37</td>\n",
       "      <td>3</td>\n",
       "      <td>284582</td>\n",
       "      <td>12</td>\n",
       "      <td>14</td>\n",
       "      <td>2</td>\n",
       "      <td>3</td>\n",
       "      <td>5</td>\n",
       "      <td>4</td>\n",
       "      <td>0</td>\n",
       "      <td>0</td>\n",
       "      <td>0</td>\n",
       "      <td>40</td>\n",
       "      <td>38</td>\n",
       "      <td>0</td>\n",
       "    </tr>\n",
       "    <tr>\n",
       "      <th>6</th>\n",
       "      <td>49</td>\n",
       "      <td>3</td>\n",
       "      <td>160187</td>\n",
       "      <td>6</td>\n",
       "      <td>5</td>\n",
       "      <td>3</td>\n",
       "      <td>7</td>\n",
       "      <td>1</td>\n",
       "      <td>2</td>\n",
       "      <td>0</td>\n",
       "      <td>0</td>\n",
       "      <td>0</td>\n",
       "      <td>16</td>\n",
       "      <td>22</td>\n",
       "      <td>0</td>\n",
       "    </tr>\n",
       "    <tr>\n",
       "      <th>7</th>\n",
       "      <td>52</td>\n",
       "      <td>5</td>\n",
       "      <td>209642</td>\n",
       "      <td>11</td>\n",
       "      <td>9</td>\n",
       "      <td>2</td>\n",
       "      <td>3</td>\n",
       "      <td>0</td>\n",
       "      <td>4</td>\n",
       "      <td>1</td>\n",
       "      <td>0</td>\n",
       "      <td>0</td>\n",
       "      <td>45</td>\n",
       "      <td>38</td>\n",
       "      <td>1</td>\n",
       "    </tr>\n",
       "    <tr>\n",
       "      <th>8</th>\n",
       "      <td>31</td>\n",
       "      <td>3</td>\n",
       "      <td>45781</td>\n",
       "      <td>12</td>\n",
       "      <td>14</td>\n",
       "      <td>4</td>\n",
       "      <td>9</td>\n",
       "      <td>1</td>\n",
       "      <td>4</td>\n",
       "      <td>0</td>\n",
       "      <td>14084</td>\n",
       "      <td>0</td>\n",
       "      <td>50</td>\n",
       "      <td>38</td>\n",
       "      <td>1</td>\n",
       "    </tr>\n",
       "    <tr>\n",
       "      <th>9</th>\n",
       "      <td>42</td>\n",
       "      <td>3</td>\n",
       "      <td>159449</td>\n",
       "      <td>9</td>\n",
       "      <td>13</td>\n",
       "      <td>2</td>\n",
       "      <td>3</td>\n",
       "      <td>0</td>\n",
       "      <td>4</td>\n",
       "      <td>1</td>\n",
       "      <td>5178</td>\n",
       "      <td>0</td>\n",
       "      <td>40</td>\n",
       "      <td>38</td>\n",
       "      <td>1</td>\n",
       "    </tr>\n",
       "  </tbody>\n",
       "</table>\n",
       "</div>"
      ],
      "text/plain": [
       "   AGE  WORKCLASS  FNLWGT  EDUCATION  EDUCATION-NUM  MARITAL_STATUS  \\\n",
       "0   39          6   77516          9             13               4   \n",
       "1   50          5   83311          9             13               2   \n",
       "2   38          3  215646         11              9               0   \n",
       "3   53          3  234721          1              7               2   \n",
       "4   28          3  338409          9             13               2   \n",
       "5   37          3  284582         12             14               2   \n",
       "6   49          3  160187          6              5               3   \n",
       "7   52          5  209642         11              9               2   \n",
       "8   31          3   45781         12             14               4   \n",
       "9   42          3  159449          9             13               2   \n",
       "\n",
       "   OCCUPATION  RELATIONSHIP  RACE  SEX  CAPITAL_GAIN  CAPITAL_LOSS  \\\n",
       "0           0             1     4    1          2174             0   \n",
       "1           3             0     4    1             0             0   \n",
       "2           5             1     4    1             0             0   \n",
       "3           5             0     2    1             0             0   \n",
       "4           9             5     2    0             0             0   \n",
       "5           3             5     4    0             0             0   \n",
       "6           7             1     2    0             0             0   \n",
       "7           3             0     4    1             0             0   \n",
       "8           9             1     4    0         14084             0   \n",
       "9           3             0     4    1          5178             0   \n",
       "\n",
       "   HOURS_PER_WEEK  NATIVE_COUNTRY  INCOME  \n",
       "0              40              38       0  \n",
       "1              13              38       0  \n",
       "2              40              38       0  \n",
       "3              40              38       0  \n",
       "4              40               4       0  \n",
       "5              40              38       0  \n",
       "6              16              22       0  \n",
       "7              45              38       1  \n",
       "8              50              38       1  \n",
       "9              40              38       1  "
      ]
     },
     "execution_count": 26,
     "metadata": {},
     "output_type": "execute_result"
    }
   ],
   "source": [
    "census_df.head(10)"
   ]
  },
  {
   "cell_type": "markdown",
   "id": "481403e6-a8b2-46e2-83a1-efc7d74a025c",
   "metadata": {},
   "source": [
    "## Addressing Data Imbalance"
   ]
  },
  {
   "cell_type": "code",
   "execution_count": 27,
   "id": "64764ce9-f058-453d-9500-32ea6f065bf9",
   "metadata": {},
   "outputs": [
    {
     "data": {
      "text/plain": [
       "0    24720\n",
       "1     7841\n",
       "Name: INCOME, dtype: int64"
      ]
     },
     "execution_count": 27,
     "metadata": {},
     "output_type": "execute_result"
    }
   ],
   "source": [
    "census_df['INCOME'].value_counts()"
   ]
  },
  {
   "cell_type": "code",
   "execution_count": 28,
   "id": "0c601eeb-9930-4ce2-9b4a-20ed03fdce40",
   "metadata": {},
   "outputs": [],
   "source": [
    "class_0 = census_df[census_df['INCOME']==0]\n",
    "class_1 = census_df[census_df['INCOME']==1]"
   ]
  },
  {
   "cell_type": "code",
   "execution_count": 29,
   "id": "d51a75a2-4644-4e86-b346-32f8faf018e1",
   "metadata": {},
   "outputs": [
    {
     "name": "stdout",
     "output_type": "stream",
     "text": [
      "(24720, 15) (7841, 15)\n"
     ]
    }
   ],
   "source": [
    "print(class_0.shape,class_1.shape)"
   ]
  },
  {
   "cell_type": "markdown",
   "id": "ca2ed684-b60d-4aef-a856-b5b9fce5c4c7",
   "metadata": {},
   "source": [
    "### Oversampling"
   ]
  },
  {
   "cell_type": "markdown",
   "id": "e34a8e85-0335-4ff2-a503-87338b84d9de",
   "metadata": {},
   "source": [
    "In oversampling, minority class is oversampled at random or duplicate examples are added from the minority class (class1) inorder to match the majority class (class0)\n",
    "\n",
    "Here the data points are selected randomly with replacement.\n",
    "\n",
    "Now, we will be applying oversampling technique - one of the method to handle data imbalance in the data."
   ]
  },
  {
   "cell_type": "markdown",
   "id": "73b3ef56-e8dd-4d73-82ec-c09c5a38d66f",
   "metadata": {},
   "source": [
    "### Why to apply oversampling technique to our data ?"
   ]
  },
  {
   "cell_type": "markdown",
   "id": "33d53d77-6828-4f17-8069-9fbb1914ebcf",
   "metadata": {},
   "source": [
    "The ability of algorithm/model is always constrained by its ability to predict rare points.So in our problem, rare points are the class1 (where adult salary is >50K$).So we will be resampling the minority class1 datapoints to balance with the majority class(class0)."
   ]
  },
  {
   "cell_type": "markdown",
   "id": "906d7057-362f-4520-baa6-e4f427a9b1ff",
   "metadata": {},
   "source": [
    "#### oversampling the minority data (class-1) to get more samples and make both class1 and class0 balanced"
   ]
  },
  {
   "cell_type": "code",
   "execution_count": 30,
   "id": "62488eed-f625-44d9-bee0-5fd8e5edecc2",
   "metadata": {},
   "outputs": [],
   "source": [
    "from sklearn.utils import resample"
   ]
  },
  {
   "cell_type": "code",
   "execution_count": 31,
   "id": "f89f2a1a-4f98-4361-99ad-cd9f50daedd3",
   "metadata": {},
   "outputs": [],
   "source": [
    "df_minority_upsampled = resample(class_1, \n",
    "                                 replace=True,     # sample with replacement\n",
    "                                 n_samples=24720,    # to match majority class\n",
    "                                 random_state=123) # reproducible results"
   ]
  },
  {
   "cell_type": "markdown",
   "id": "b20482bd-4b86-43bf-ab87-133ec47441ac",
   "metadata": {},
   "source": [
    "After performing oversampling, we can now confirm from below that both class1 and class0 have same dimensions."
   ]
  },
  {
   "cell_type": "code",
   "execution_count": 32,
   "id": "8eaf371d-99c6-4f31-a447-7421e7eea33a",
   "metadata": {},
   "outputs": [
    {
     "name": "stdout",
     "output_type": "stream",
     "text": [
      "(24720, 15) (24720, 15)\n"
     ]
    }
   ],
   "source": [
    "print(class_0.shape,df_minority_upsampled.shape)"
   ]
  },
  {
   "cell_type": "markdown",
   "id": "34033c0e-ba31-4e48-a817-6fb566df5569",
   "metadata": {},
   "source": [
    "Here majority class has has 24720 rows in total and minority has 7841 rows"
   ]
  },
  {
   "cell_type": "markdown",
   "id": "3c5dde58-2579-470a-8eec-3f222d71f9a2",
   "metadata": {},
   "source": [
    "**Concatinating both Classes using concat()**"
   ]
  },
  {
   "cell_type": "code",
   "execution_count": 33,
   "id": "54455436-3ab4-4c2e-be8c-7bcbaff43ef8",
   "metadata": {},
   "outputs": [],
   "source": [
    "final_df = pd.concat([class_0,df_minority_upsampled])"
   ]
  },
  {
   "cell_type": "code",
   "execution_count": 34,
   "id": "9b5febb1-a624-4cb5-8f3a-c02f572e7e73",
   "metadata": {},
   "outputs": [
    {
     "name": "stdout",
     "output_type": "stream",
     "text": [
      "(49440, 15)\n"
     ]
    }
   ],
   "source": [
    "print(final_df.shape)"
   ]
  },
  {
   "cell_type": "markdown",
   "id": "fc522792-b59d-471e-b694-3b34ea284894",
   "metadata": {},
   "source": [
    "#### Checking the correlation among all the variables wrt 'INCOME' variable which is our Target"
   ]
  },
  {
   "cell_type": "markdown",
   "id": "35153dee-9539-430e-a68a-29c85d902504",
   "metadata": {},
   "source": [
    "We can observe that variables - WORKCLASS,FNLWGT,NATIVE_CLASS have least correlation almost equal to zero, hence these 3 variables can be removed in our further modelling"
   ]
  },
  {
   "cell_type": "code",
   "execution_count": 35,
   "id": "4860fd74-e52f-49cf-a6ed-8fb74d1e7004",
   "metadata": {},
   "outputs": [
    {
     "data": {
      "text/html": [
       "<div>\n",
       "<style scoped>\n",
       "    .dataframe tbody tr th:only-of-type {\n",
       "        vertical-align: middle;\n",
       "    }\n",
       "\n",
       "    .dataframe tbody tr th {\n",
       "        vertical-align: top;\n",
       "    }\n",
       "\n",
       "    .dataframe thead th {\n",
       "        text-align: right;\n",
       "    }\n",
       "</style>\n",
       "<table border=\"1\" class=\"dataframe\">\n",
       "  <thead>\n",
       "    <tr style=\"text-align: right;\">\n",
       "      <th></th>\n",
       "      <th>AGE</th>\n",
       "      <th>WORKCLASS</th>\n",
       "      <th>FNLWGT</th>\n",
       "      <th>EDUCATION</th>\n",
       "      <th>EDUCATION-NUM</th>\n",
       "      <th>MARITAL_STATUS</th>\n",
       "      <th>OCCUPATION</th>\n",
       "      <th>RELATIONSHIP</th>\n",
       "      <th>RACE</th>\n",
       "      <th>SEX</th>\n",
       "      <th>CAPITAL_GAIN</th>\n",
       "      <th>CAPITAL_LOSS</th>\n",
       "      <th>HOURS_PER_WEEK</th>\n",
       "      <th>NATIVE_COUNTRY</th>\n",
       "      <th>INCOME</th>\n",
       "    </tr>\n",
       "  </thead>\n",
       "  <tbody>\n",
       "    <tr>\n",
       "      <th>AGE</th>\n",
       "      <td>1.000000</td>\n",
       "      <td>0.044776</td>\n",
       "      <td>-0.074798</td>\n",
       "      <td>0.013600</td>\n",
       "      <td>0.076409</td>\n",
       "      <td>-0.249900</td>\n",
       "      <td>0.008616</td>\n",
       "      <td>-0.254716</td>\n",
       "      <td>0.044881</td>\n",
       "      <td>0.126265</td>\n",
       "      <td>0.085010</td>\n",
       "      <td>0.067467</td>\n",
       "      <td>0.061008</td>\n",
       "      <td>0.003989</td>\n",
       "      <td>0.289071</td>\n",
       "    </tr>\n",
       "    <tr>\n",
       "      <th>WORKCLASS</th>\n",
       "      <td>0.044776</td>\n",
       "      <td>1.000000</td>\n",
       "      <td>-0.020297</td>\n",
       "      <td>0.001441</td>\n",
       "      <td>0.015550</td>\n",
       "      <td>-0.014703</td>\n",
       "      <td>0.018564</td>\n",
       "      <td>-0.047288</td>\n",
       "      <td>0.039397</td>\n",
       "      <td>0.063821</td>\n",
       "      <td>0.039002</td>\n",
       "      <td>0.014293</td>\n",
       "      <td>0.053323</td>\n",
       "      <td>-0.003598</td>\n",
       "      <td>0.007380</td>\n",
       "    </tr>\n",
       "    <tr>\n",
       "      <th>FNLWGT</th>\n",
       "      <td>-0.074798</td>\n",
       "      <td>-0.020297</td>\n",
       "      <td>1.000000</td>\n",
       "      <td>-0.016955</td>\n",
       "      <td>-0.029356</td>\n",
       "      <td>0.023183</td>\n",
       "      <td>0.008143</td>\n",
       "      <td>-0.000724</td>\n",
       "      <td>-0.022964</td>\n",
       "      <td>0.023868</td>\n",
       "      <td>0.004029</td>\n",
       "      <td>-0.015724</td>\n",
       "      <td>-0.016426</td>\n",
       "      <td>-0.047364</td>\n",
       "      <td>-0.008808</td>\n",
       "    </tr>\n",
       "    <tr>\n",
       "      <th>EDUCATION</th>\n",
       "      <td>0.013600</td>\n",
       "      <td>0.001441</td>\n",
       "      <td>-0.016955</td>\n",
       "      <td>1.000000</td>\n",
       "      <td>0.285264</td>\n",
       "      <td>-0.047660</td>\n",
       "      <td>-0.026990</td>\n",
       "      <td>-0.025636</td>\n",
       "      <td>0.018631</td>\n",
       "      <td>-0.005598</td>\n",
       "      <td>0.032671</td>\n",
       "      <td>0.016489</td>\n",
       "      <td>0.060629</td>\n",
       "      <td>0.058140</td>\n",
       "      <td>0.100343</td>\n",
       "    </tr>\n",
       "    <tr>\n",
       "      <th>EDUCATION-NUM</th>\n",
       "      <td>0.076409</td>\n",
       "      <td>0.015550</td>\n",
       "      <td>-0.029356</td>\n",
       "      <td>0.285264</td>\n",
       "      <td>1.000000</td>\n",
       "      <td>-0.096992</td>\n",
       "      <td>0.095111</td>\n",
       "      <td>-0.118162</td>\n",
       "      <td>0.031684</td>\n",
       "      <td>0.055469</td>\n",
       "      <td>0.132336</td>\n",
       "      <td>0.097688</td>\n",
       "      <td>0.171630</td>\n",
       "      <td>0.051564</td>\n",
       "      <td>0.386639</td>\n",
       "    </tr>\n",
       "    <tr>\n",
       "      <th>MARITAL_STATUS</th>\n",
       "      <td>-0.249900</td>\n",
       "      <td>-0.014703</td>\n",
       "      <td>0.023183</td>\n",
       "      <td>-0.047660</td>\n",
       "      <td>-0.096992</td>\n",
       "      <td>1.000000</td>\n",
       "      <td>0.025389</td>\n",
       "      <td>0.179522</td>\n",
       "      <td>-0.063268</td>\n",
       "      <td>-0.147032</td>\n",
       "      <td>-0.043688</td>\n",
       "      <td>-0.036266</td>\n",
       "      <td>-0.185959</td>\n",
       "      <td>-0.022633</td>\n",
       "      <td>-0.261916</td>\n",
       "    </tr>\n",
       "    <tr>\n",
       "      <th>OCCUPATION</th>\n",
       "      <td>0.008616</td>\n",
       "      <td>0.018564</td>\n",
       "      <td>0.008143</td>\n",
       "      <td>-0.026990</td>\n",
       "      <td>0.095111</td>\n",
       "      <td>0.025389</td>\n",
       "      <td>1.000000</td>\n",
       "      <td>-0.054389</td>\n",
       "      <td>-0.000732</td>\n",
       "      <td>0.056590</td>\n",
       "      <td>0.027828</td>\n",
       "      <td>0.006116</td>\n",
       "      <td>0.003558</td>\n",
       "      <td>-0.000708</td>\n",
       "      <td>0.042790</td>\n",
       "    </tr>\n",
       "    <tr>\n",
       "      <th>RELATIONSHIP</th>\n",
       "      <td>-0.254716</td>\n",
       "      <td>-0.047288</td>\n",
       "      <td>-0.000724</td>\n",
       "      <td>-0.025636</td>\n",
       "      <td>-0.118162</td>\n",
       "      <td>0.179522</td>\n",
       "      <td>-0.054389</td>\n",
       "      <td>1.000000</td>\n",
       "      <td>-0.111226</td>\n",
       "      <td>-0.663361</td>\n",
       "      <td>-0.055201</td>\n",
       "      <td>-0.070618</td>\n",
       "      <td>-0.263692</td>\n",
       "      <td>-0.022741</td>\n",
       "      <td>-0.290836</td>\n",
       "    </tr>\n",
       "    <tr>\n",
       "      <th>RACE</th>\n",
       "      <td>0.044881</td>\n",
       "      <td>0.039397</td>\n",
       "      <td>-0.022964</td>\n",
       "      <td>0.018631</td>\n",
       "      <td>0.031684</td>\n",
       "      <td>-0.063268</td>\n",
       "      <td>-0.000732</td>\n",
       "      <td>-0.111226</td>\n",
       "      <td>1.000000</td>\n",
       "      <td>0.091836</td>\n",
       "      <td>0.005639</td>\n",
       "      <td>0.022692</td>\n",
       "      <td>0.052137</td>\n",
       "      <td>0.150914</td>\n",
       "      <td>0.083729</td>\n",
       "    </tr>\n",
       "    <tr>\n",
       "      <th>SEX</th>\n",
       "      <td>0.126265</td>\n",
       "      <td>0.063821</td>\n",
       "      <td>0.023868</td>\n",
       "      <td>-0.005598</td>\n",
       "      <td>0.055469</td>\n",
       "      <td>-0.147032</td>\n",
       "      <td>0.056590</td>\n",
       "      <td>-0.663361</td>\n",
       "      <td>0.091836</td>\n",
       "      <td>1.000000</td>\n",
       "      <td>0.047820</td>\n",
       "      <td>0.060188</td>\n",
       "      <td>0.247470</td>\n",
       "      <td>0.012822</td>\n",
       "      <td>0.269526</td>\n",
       "    </tr>\n",
       "    <tr>\n",
       "      <th>CAPITAL_GAIN</th>\n",
       "      <td>0.085010</td>\n",
       "      <td>0.039002</td>\n",
       "      <td>0.004029</td>\n",
       "      <td>0.032671</td>\n",
       "      <td>0.132336</td>\n",
       "      <td>-0.043688</td>\n",
       "      <td>0.027828</td>\n",
       "      <td>-0.055201</td>\n",
       "      <td>0.005639</td>\n",
       "      <td>0.047820</td>\n",
       "      <td>1.000000</td>\n",
       "      <td>-0.052064</td>\n",
       "      <td>0.086954</td>\n",
       "      <td>0.004301</td>\n",
       "      <td>0.183501</td>\n",
       "    </tr>\n",
       "    <tr>\n",
       "      <th>CAPITAL_LOSS</th>\n",
       "      <td>0.067467</td>\n",
       "      <td>0.014293</td>\n",
       "      <td>-0.015724</td>\n",
       "      <td>0.016489</td>\n",
       "      <td>0.097688</td>\n",
       "      <td>-0.036266</td>\n",
       "      <td>0.006116</td>\n",
       "      <td>-0.070618</td>\n",
       "      <td>0.022692</td>\n",
       "      <td>0.060188</td>\n",
       "      <td>-0.052064</td>\n",
       "      <td>1.000000</td>\n",
       "      <td>0.067928</td>\n",
       "      <td>0.011083</td>\n",
       "      <td>0.154444</td>\n",
       "    </tr>\n",
       "    <tr>\n",
       "      <th>HOURS_PER_WEEK</th>\n",
       "      <td>0.061008</td>\n",
       "      <td>0.053323</td>\n",
       "      <td>-0.016426</td>\n",
       "      <td>0.060629</td>\n",
       "      <td>0.171630</td>\n",
       "      <td>-0.185959</td>\n",
       "      <td>0.003558</td>\n",
       "      <td>-0.263692</td>\n",
       "      <td>0.052137</td>\n",
       "      <td>0.247470</td>\n",
       "      <td>0.086954</td>\n",
       "      <td>0.067928</td>\n",
       "      <td>1.000000</td>\n",
       "      <td>0.014522</td>\n",
       "      <td>0.272972</td>\n",
       "    </tr>\n",
       "    <tr>\n",
       "      <th>NATIVE_COUNTRY</th>\n",
       "      <td>0.003989</td>\n",
       "      <td>-0.003598</td>\n",
       "      <td>-0.047364</td>\n",
       "      <td>0.058140</td>\n",
       "      <td>0.051564</td>\n",
       "      <td>-0.022633</td>\n",
       "      <td>-0.000708</td>\n",
       "      <td>-0.022741</td>\n",
       "      <td>0.150914</td>\n",
       "      <td>0.012822</td>\n",
       "      <td>0.004301</td>\n",
       "      <td>0.011083</td>\n",
       "      <td>0.014522</td>\n",
       "      <td>1.000000</td>\n",
       "      <td>0.027867</td>\n",
       "    </tr>\n",
       "    <tr>\n",
       "      <th>INCOME</th>\n",
       "      <td>0.289071</td>\n",
       "      <td>0.007380</td>\n",
       "      <td>-0.008808</td>\n",
       "      <td>0.100343</td>\n",
       "      <td>0.386639</td>\n",
       "      <td>-0.261916</td>\n",
       "      <td>0.042790</td>\n",
       "      <td>-0.290836</td>\n",
       "      <td>0.083729</td>\n",
       "      <td>0.269526</td>\n",
       "      <td>0.183501</td>\n",
       "      <td>0.154444</td>\n",
       "      <td>0.272972</td>\n",
       "      <td>0.027867</td>\n",
       "      <td>1.000000</td>\n",
       "    </tr>\n",
       "  </tbody>\n",
       "</table>\n",
       "</div>"
      ],
      "text/plain": [
       "                     AGE  WORKCLASS    FNLWGT  EDUCATION  EDUCATION-NUM  \\\n",
       "AGE             1.000000   0.044776 -0.074798   0.013600       0.076409   \n",
       "WORKCLASS       0.044776   1.000000 -0.020297   0.001441       0.015550   \n",
       "FNLWGT         -0.074798  -0.020297  1.000000  -0.016955      -0.029356   \n",
       "EDUCATION       0.013600   0.001441 -0.016955   1.000000       0.285264   \n",
       "EDUCATION-NUM   0.076409   0.015550 -0.029356   0.285264       1.000000   \n",
       "MARITAL_STATUS -0.249900  -0.014703  0.023183  -0.047660      -0.096992   \n",
       "OCCUPATION      0.008616   0.018564  0.008143  -0.026990       0.095111   \n",
       "RELATIONSHIP   -0.254716  -0.047288 -0.000724  -0.025636      -0.118162   \n",
       "RACE            0.044881   0.039397 -0.022964   0.018631       0.031684   \n",
       "SEX             0.126265   0.063821  0.023868  -0.005598       0.055469   \n",
       "CAPITAL_GAIN    0.085010   0.039002  0.004029   0.032671       0.132336   \n",
       "CAPITAL_LOSS    0.067467   0.014293 -0.015724   0.016489       0.097688   \n",
       "HOURS_PER_WEEK  0.061008   0.053323 -0.016426   0.060629       0.171630   \n",
       "NATIVE_COUNTRY  0.003989  -0.003598 -0.047364   0.058140       0.051564   \n",
       "INCOME          0.289071   0.007380 -0.008808   0.100343       0.386639   \n",
       "\n",
       "                MARITAL_STATUS  OCCUPATION  RELATIONSHIP      RACE       SEX  \\\n",
       "AGE                  -0.249900    0.008616     -0.254716  0.044881  0.126265   \n",
       "WORKCLASS            -0.014703    0.018564     -0.047288  0.039397  0.063821   \n",
       "FNLWGT                0.023183    0.008143     -0.000724 -0.022964  0.023868   \n",
       "EDUCATION            -0.047660   -0.026990     -0.025636  0.018631 -0.005598   \n",
       "EDUCATION-NUM        -0.096992    0.095111     -0.118162  0.031684  0.055469   \n",
       "MARITAL_STATUS        1.000000    0.025389      0.179522 -0.063268 -0.147032   \n",
       "OCCUPATION            0.025389    1.000000     -0.054389 -0.000732  0.056590   \n",
       "RELATIONSHIP          0.179522   -0.054389      1.000000 -0.111226 -0.663361   \n",
       "RACE                 -0.063268   -0.000732     -0.111226  1.000000  0.091836   \n",
       "SEX                  -0.147032    0.056590     -0.663361  0.091836  1.000000   \n",
       "CAPITAL_GAIN         -0.043688    0.027828     -0.055201  0.005639  0.047820   \n",
       "CAPITAL_LOSS         -0.036266    0.006116     -0.070618  0.022692  0.060188   \n",
       "HOURS_PER_WEEK       -0.185959    0.003558     -0.263692  0.052137  0.247470   \n",
       "NATIVE_COUNTRY       -0.022633   -0.000708     -0.022741  0.150914  0.012822   \n",
       "INCOME               -0.261916    0.042790     -0.290836  0.083729  0.269526   \n",
       "\n",
       "                CAPITAL_GAIN  CAPITAL_LOSS  HOURS_PER_WEEK  NATIVE_COUNTRY  \\\n",
       "AGE                 0.085010      0.067467        0.061008        0.003989   \n",
       "WORKCLASS           0.039002      0.014293        0.053323       -0.003598   \n",
       "FNLWGT              0.004029     -0.015724       -0.016426       -0.047364   \n",
       "EDUCATION           0.032671      0.016489        0.060629        0.058140   \n",
       "EDUCATION-NUM       0.132336      0.097688        0.171630        0.051564   \n",
       "MARITAL_STATUS     -0.043688     -0.036266       -0.185959       -0.022633   \n",
       "OCCUPATION          0.027828      0.006116        0.003558       -0.000708   \n",
       "RELATIONSHIP       -0.055201     -0.070618       -0.263692       -0.022741   \n",
       "RACE                0.005639      0.022692        0.052137        0.150914   \n",
       "SEX                 0.047820      0.060188        0.247470        0.012822   \n",
       "CAPITAL_GAIN        1.000000     -0.052064        0.086954        0.004301   \n",
       "CAPITAL_LOSS       -0.052064      1.000000        0.067928        0.011083   \n",
       "HOURS_PER_WEEK      0.086954      0.067928        1.000000        0.014522   \n",
       "NATIVE_COUNTRY      0.004301      0.011083        0.014522        1.000000   \n",
       "INCOME              0.183501      0.154444        0.272972        0.027867   \n",
       "\n",
       "                  INCOME  \n",
       "AGE             0.289071  \n",
       "WORKCLASS       0.007380  \n",
       "FNLWGT         -0.008808  \n",
       "EDUCATION       0.100343  \n",
       "EDUCATION-NUM   0.386639  \n",
       "MARITAL_STATUS -0.261916  \n",
       "OCCUPATION      0.042790  \n",
       "RELATIONSHIP   -0.290836  \n",
       "RACE            0.083729  \n",
       "SEX             0.269526  \n",
       "CAPITAL_GAIN    0.183501  \n",
       "CAPITAL_LOSS    0.154444  \n",
       "HOURS_PER_WEEK  0.272972  \n",
       "NATIVE_COUNTRY  0.027867  \n",
       "INCOME          1.000000  "
      ]
     },
     "execution_count": 35,
     "metadata": {},
     "output_type": "execute_result"
    }
   ],
   "source": [
    "final_df.corr()"
   ]
  },
  {
   "cell_type": "code",
   "execution_count": 38,
   "id": "2eeabc6a-377c-4716-8279-dd85fd357af5",
   "metadata": {},
   "outputs": [],
   "source": [
    "final_df.to_csv('./census_final_df.csv', index=False)"
   ]
  }
 ],
 "metadata": {
  "kernelspec": {
   "display_name": "Python 3 (ipykernel)",
   "language": "python",
   "name": "python3"
  },
  "language_info": {
   "codemirror_mode": {
    "name": "ipython",
    "version": 3
   },
   "file_extension": ".py",
   "mimetype": "text/x-python",
   "name": "python",
   "nbconvert_exporter": "python",
   "pygments_lexer": "ipython3",
   "version": "3.9.12"
  }
 },
 "nbformat": 4,
 "nbformat_minor": 5
}
